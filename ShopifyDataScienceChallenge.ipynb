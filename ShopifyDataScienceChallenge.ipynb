{
 "cells": [
  {
   "cell_type": "markdown",
   "id": "6d70cf7b",
   "metadata": {},
   "source": [
    "# Shopify Data Science Challenge Submission"
   ]
  },
  {
   "cell_type": "code",
   "execution_count": 1,
   "id": "a5c3443b",
   "metadata": {},
   "outputs": [],
   "source": [
    "import seaborn as sns\n",
    "import pandas as pd\n",
    "import datetime"
   ]
  },
  {
   "cell_type": "markdown",
   "id": "67bf5e23",
   "metadata": {},
   "source": [
    "### Read Data\n",
    "Read the data from the given .csv file into a pandas dataframe."
   ]
  },
  {
   "cell_type": "code",
   "execution_count": 2,
   "id": "8daef659",
   "metadata": {},
   "outputs": [],
   "source": [
    "shopify_data = pd.read_csv('data.csv')"
   ]
  },
  {
   "cell_type": "code",
   "execution_count": 3,
   "id": "ba6a33d8",
   "metadata": {},
   "outputs": [],
   "source": [
    "shopify_data['created_at'] = pd.to_datetime(shopify_data['created_at'])"
   ]
  },
  {
   "cell_type": "markdown",
   "id": "323d9a86",
   "metadata": {},
   "source": [
    "### Box Plot\n",
    "Make a simple boxplot to determine if there are any outliers. Here we see that while most of the order_amount values are less than \\\\$20,000 &ndash; there are some outliers that are around the \\\\$70,000 mark. We do not get an accurate representation of the AOV because of these outleiers."
   ]
  },
  {
   "cell_type": "code",
   "execution_count": 4,
   "id": "72e1b423",
   "metadata": {},
   "outputs": [
    {
     "data": {
      "image/png": "[encoded data removed]",
      "text/plain": [
       "<Figure size 432x288 with 1 Axes>"
      ]
     },
     "metadata": {},
     "output_type": "display_data"
    }
   ],
   "source": [
    "sns.set_theme(style=\"darkgrid\")\n",
    "ax = sns.boxplot(x=shopify_data[\"order_amount\"])"
   ]
  },
  {
   "cell_type": "markdown",
   "id": "0aac2040",
   "metadata": {},
   "source": [
    "### What is an outlier?\n",
    "Simply put, an outliers are data points that are significantly higher or lower in value as compared to the rest of the dataset. However, if we hope to eliminate outliers we have to quantify them. One way of doing this is calculating the z-scores for all the observations. Z-score of an observation is defined as:\n",
    "\n",
    "$${Z} = \\frac{\\sum_{X} - µ}{σ}$$\n",
    "\n",
    "As seen below, we calculate this value for every single row in the dataframe and store it in a new column."
   ]
  },
  {
   "cell_type": "code",
   "execution_count": 5,
   "id": "20504767",
   "metadata": {},
   "outputs": [],
   "source": [
    "shopify_data['zscore_order_amt'] = (shopify_data[\"order_amount\"] - shopify_data[\"order_amount\"].mean())/shopify_data[\"order_amount\"].std(ddof=0)"
   ]
  },
  {
   "cell_type": "markdown",
   "id": "5fe4be83",
   "metadata": {},
   "source": [
    "### Filter!\n",
    "Next, we create a filtered dataframe where we only include values that have a z-score value of between -3 and 3"
   ]
  },
  {
   "cell_type": "code",
   "execution_count": 6,
   "id": "11a7db99",
   "metadata": {},
   "outputs": [],
   "source": [
    "filtered_df = shopify_data[abs(shopify_data['zscore_order_amt']) <= 3]"
   ]
  },
  {
   "cell_type": "markdown",
   "id": "c2dfe211",
   "metadata": {},
   "source": [
    "### Time to get that AOV!\n",
    "Finally, we calculate the corrected AOV without the outlier which comes out to be \\\\$723.26"
   ]
  },
  {
   "cell_type": "code",
   "execution_count": 7,
   "id": "2b6bb212",
   "metadata": {},
   "outputs": [
    {
     "data": {
      "text/plain": [
       "723.2617422721798"
      ]
     },
     "execution_count": 7,
     "metadata": {},
     "output_type": "execute_result"
    }
   ],
   "source": [
    "avg_order_vol = filtered_df['order_amount'].mean()\n",
    "avg_order_vol "
   ]
  },
  {
   "cell_type": "markdown",
   "id": "53537730",
   "metadata": {},
   "source": [
    "### Average Customer Lifetime Value (CLV)\n",
    "The metric that I'd define for the given data is the Customer Lifetime Value. As the name sugests, this metric gives a measure of how much a customer is worth to the business - Shopify in this case.\n",
    "We find the the Average Estimated Customer Lifetime Value by multiplying the Average Order Value (AOV) with the average number of orderes received from each customer (n).\n",
    "\n",
    "CLV  =  AOV * n"
   ]
  },
  {
   "cell_type": "code",
   "execution_count": 9,
   "id": "4010eab7",
   "metadata": {},
   "outputs": [
    {
     "data": {
      "text/plain": [
       "16.606666666666666"
      ]
     },
     "execution_count": 9,
     "metadata": {},
     "output_type": "execute_result"
    }
   ],
   "source": [
    "n = filtered_df['order_id'].count()/filtered_df['user_id'].nunique()\n",
    "n"
   ]
  },
  {
   "cell_type": "code",
   "execution_count": 10,
   "id": "7541295d",
   "metadata": {},
   "outputs": [
    {
     "data": {
      "text/plain": [
       "12010.966666666665"
      ]
     },
     "execution_count": 10,
     "metadata": {},
     "output_type": "execute_result"
    }
   ],
   "source": [
    "clv = avg_order_vol * n\n",
    "clv"
   ]
  }
 ],
 "metadata": {
  "kernelspec": {
   "display_name": "Python 3 (ipykernel)",
   "language": "python",
   "name": "python3"
  },
  "language_info": {
   "codemirror_mode": {
    "name": "ipython",
    "version": 3
   },
   "file_extension": ".py",
   "mimetype": "text/x-python",
   "name": "python",
   "nbconvert_exporter": "python",
   "pygments_lexer": "ipython3",
   "version": "3.9.9"
  }
 },
 "nbformat": 4,
 "nbformat_minor": 5
}
